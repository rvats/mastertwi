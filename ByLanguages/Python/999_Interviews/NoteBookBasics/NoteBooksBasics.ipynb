{
 "cells": [
  {
   "cell_type": "markdown",
   "metadata": {},
   "source": [
    "# Python Variables"
   ]
  },
  {
   "cell_type": "markdown",
   "metadata": {},
   "source": [
    "<a id='section2'></a>"
   ]
  },
  {
   "cell_type": "markdown",
   "metadata": {},
   "source": [
    "### Section 2\n",
    "some text ..."
   ]
  },
  {
   "cell_type": "markdown",
   "metadata": {},
   "source": [
    "This is some Gibberish text. <br />\n",
    "Lorem Ipsum. <br />\n",
    "What is Lorem Ipsum?\n",
    "Lorem Ipsum is simply dummy text of the printing and typesetting industry. Lorem Ipsum has been the industry's standard dummy text ever since the 1500s, when an unknown printer took a galley of type and scrambled it to make a type specimen book. It has survived not only five centuries, but also the leap into electronic typesetting, remaining essentially unchanged. It was popularised in the 1960s with the release of Letraset sheets containing Lorem Ipsum passages, and more recently with desktop publishing software like Aldus PageMaker including versions of Lorem Ipsum.\n",
    "\n",
    "Why do we use it?\n",
    "It is a long established fact that a reader will be distracted by the readable content of a page when looking at its layout. The point of using Lorem Ipsum is that it has a more-or-less normal distribution of letters, as opposed to using 'Content here, content here', making it look like readable English. Many desktop publishing packages and web page editors now use Lorem Ipsum as their default model text, and a search for 'lorem ipsum' will uncover many web sites still in their infancy. Various versions have evolved over the years, sometimes by accident, sometimes on purpose (injected humour and the like).\n",
    "\n",
    "\n",
    "Where does it come from?\n",
    "Contrary to popular belief, Lorem Ipsum is not simply random text. It has roots in a piece of classical Latin literature from 45 BC, making it over 2000 years old. Richard McClintock, a Latin professor at Hampden-Sydney College in Virginia, looked up one of the more obscure Latin words, consectetur, from a Lorem Ipsum passage, and going through the cites of the word in classical literature, discovered the undoubtable source. Lorem Ipsum comes from sections 1.10.32 and 1.10.33 of \"de Finibus Bonorum et Malorum\" (The Extremes of Good and Evil) by Cicero, written in 45 BC. This book is a treatise on the theory of ethics, very popular during the Renaissance. The first line of Lorem Ipsum, \"Lorem ipsum dolor sit amet..\", comes from a line in section 1.10.32.\n",
    "\n",
    "The standard chunk of Lorem Ipsum used since the 1500s is reproduced below for those interested. Sections 1.10.32 and 1.10.33 from \"de Finibus Bonorum et Malorum\" by Cicero are also reproduced in their exact original form, accompanied by English versions from the 1914 translation by H. Rackham.\n",
    "\n",
    "Where can I get some?\n",
    "There are many variations of passages of Lorem Ipsum available, but the majority have suffered alteration in some form, by injected humour, or randomised words which don't look even slightly believable. If you are going to use a passage of Lorem Ipsum, you need to be sure there isn't anything embarrassing hidden in the middle of text. All the Lorem Ipsum generators on the Internet tend to repeat predefined chunks as necessary, making this the first true generator on the Internet. It uses a dictionary of over 200 Latin words, combined with a handful of model sentence structures, to generate Lorem Ipsum which looks reasonable. The generated Lorem Ipsum is therefore always free from repetition, injected humour, or non-characteristic words etc.\n",
    "\n",
    "orem ipsum dolor sit amet, consectetur adipiscing elit. Etiam sed aliquet neque. Pellentesque tincidunt nisi ut pretium pretium. Mauris sodales at urna at vehicula. Integer congue dui bibendum, venenatis nibh vel, mattis ipsum. Vestibulum dui ligula, dapibus at lectus et, rutrum volutpat diam. Vivamus vestibulum dignissim suscipit. Duis commodo purus nisl, eu maximus mi feugiat sed. Ut sit amet condimentum justo. Nunc ut bibendum ex.\n",
    "\n",
    "Aenean dictum mauris ac elit dignissim maximus at in metus. Vestibulum at velit enim. Morbi non massa augue. Suspendisse tristique lectus fermentum, ornare justo at, placerat neque. Aliquam elementum sapien eget nisi tincidunt imperdiet. Nam vel faucibus mauris, quis elementum eros. Nulla tincidunt vel lorem vel lacinia. Duis molestie nisi diam, ut convallis massa ullamcorper a. Vestibulum consectetur augue sed nulla posuere ultrices. Pellentesque et gravida justo. Aenean mattis leo at ante tincidunt, non porttitor urna blandit. Praesent ligula felis, eleifend vitae mollis sed, ultrices convallis sapien. Vivamus aliquet leo nulla, pretium consequat libero aliquet ac. Ut pellentesque nisl eget justo condimentum maximus. In hac habitasse platea dictumst. Vivamus molestie sollicitudin augue, at varius eros condimentum id.\n",
    "\n",
    "Morbi augue neque, tempor eu sollicitudin ut, dictum in dui. Mauris eget lectus enim. Donec pretium condimentum aliquet. Suspendisse varius laoreet elit sit amet hendrerit. Suspendisse lacus purus, laoreet vel augue in, tempus gravida dui. Nam hendrerit vitae leo vel gravida. Phasellus ac ligula id quam venenatis imperdiet. Pellentesque vitae consectetur turpis. Sed rutrum odio nisl. Aliquam aliquet rutrum urna eget efficitur. Suspendisse sodales semper facilisis. Suspendisse ac iaculis libero. In commodo a augue vitae rhoncus. In sed enim scelerisque sapien suscipit mollis. Donec ipsum nisi, sodales ut dapibus ac, euismod vel erat.\n",
    "\n",
    "Vestibulum lacinia ultricies sem quis interdum. Pellentesque tortor elit, imperdiet et dolor sit amet, fringilla congue arcu. Pellentesque iaculis neque nec lectus condimentum accumsan. Lorem ipsum dolor sit amet, consectetur adipiscing elit. Vestibulum elementum sit amet urna non rutrum. Curabitur commodo ornare enim eu convallis. Donec posuere lobortis ex sed viverra. Suspendisse iaculis tristique porttitor. In sed est lacinia, ornare metus accumsan, faucibus tortor. Nullam faucibus faucibus dui at vehicula. Morbi rhoncus tristique malesuada. Etiam erat dolor, placerat hendrerit congue lacinia, interdum eget mi. Fusce elementum viverra euismod. Vivamus quis ipsum mi.\n",
    "\n",
    "Nullam non elit tempor nibh egestas pharetra. Curabitur vel erat dapibus, faucibus nisi sit amet, dignissim lorem. Aliquam dignissim nunc at enim rhoncus vulputate. Pellentesque ut justo volutpat ante porttitor bibendum. Aliquam erat volutpat. Praesent lectus enim, blandit vel sem ac, porta tristique urna. Vestibulum dictum nibh sit amet consectetur finibus. Nunc suscipit risus feugiat, porta arcu ac, tincidunt tortor. Nulla ac nunc vel justo elementum blandit eget eget leo. Phasellus convallis dignissim efficitur. Mauris eget magna arcu. Aliquam ac eros dui.\n",
    "\n",
    "orem ipsum dolor sit amet, consectetur adipiscing elit. Etiam sed aliquet neque. Pellentesque tincidunt nisi ut pretium pretium. Mauris sodales at urna at vehicula. Integer congue dui bibendum, venenatis nibh vel, mattis ipsum. Vestibulum dui ligula, dapibus at lectus et, rutrum volutpat diam. Vivamus vestibulum dignissim suscipit. Duis commodo purus nisl, eu maximus mi feugiat sed. Ut sit amet condimentum justo. Nunc ut bibendum ex.\n",
    "\n",
    "Aenean dictum mauris ac elit dignissim maximus at in metus. Vestibulum at velit enim. Morbi non massa augue. Suspendisse tristique lectus fermentum, ornare justo at, placerat neque. Aliquam elementum sapien eget nisi tincidunt imperdiet. Nam vel faucibus mauris, quis elementum eros. Nulla tincidunt vel lorem vel lacinia. Duis molestie nisi diam, ut convallis massa ullamcorper a. Vestibulum consectetur augue sed nulla posuere ultrices. Pellentesque et gravida justo. Aenean mattis leo at ante tincidunt, non porttitor urna blandit. Praesent ligula felis, eleifend vitae mollis sed, ultrices convallis sapien. Vivamus aliquet leo nulla, pretium consequat libero aliquet ac. Ut pellentesque nisl eget justo condimentum maximus. In hac habitasse platea dictumst. Vivamus molestie sollicitudin augue, at varius eros condimentum id.\n",
    "\n",
    "Morbi augue neque, tempor eu sollicitudin ut, dictum in dui. Mauris eget lectus enim. Donec pretium condimentum aliquet. Suspendisse varius laoreet elit sit amet hendrerit. Suspendisse lacus purus, laoreet vel augue in, tempus gravida dui. Nam hendrerit vitae leo vel gravida. Phasellus ac ligula id quam venenatis imperdiet. Pellentesque vitae consectetur turpis. Sed rutrum odio nisl. Aliquam aliquet rutrum urna eget efficitur. Suspendisse sodales semper facilisis. Suspendisse ac iaculis libero. In commodo a augue vitae rhoncus. In sed enim scelerisque sapien suscipit mollis. Donec ipsum nisi, sodales ut dapibus ac, euismod vel erat.\n",
    "\n",
    "Vestibulum lacinia ultricies sem quis interdum. Pellentesque tortor elit, imperdiet et dolor sit amet, fringilla congue arcu. Pellentesque iaculis neque nec lectus condimentum accumsan. Lorem ipsum dolor sit amet, consectetur adipiscing elit. Vestibulum elementum sit amet urna non rutrum. Curabitur commodo ornare enim eu convallis. Donec posuere lobortis ex sed viverra. Suspendisse iaculis tristique porttitor. In sed est lacinia, ornare metus accumsan, faucibus tortor. Nullam faucibus faucibus dui at vehicula. Morbi rhoncus tristique malesuada. Etiam erat dolor, placerat hendrerit congue lacinia, interdum eget mi. Fusce elementum viverra euismod. Vivamus quis ipsum mi.\n",
    "\n",
    "Nullam non elit tempor nibh egestas pharetra. Curabitur vel erat dapibus, faucibus nisi sit amet, dignissim lorem. Aliquam dignissim nunc at enim rhoncus vulputate. Pellentesque ut justo volutpat ante porttitor bibendum. Aliquam erat volutpat. Praesent lectus enim, blandit vel sem ac, porta tristique urna. Vestibulum dictum nibh sit amet consectetur finibus. Nunc suscipit risus feugiat, porta arcu ac, tincidunt tortor. Nulla ac nunc vel justo elementum blandit eget eget leo. Phasellus convallis dignissim efficitur. Mauris eget magna arcu. Aliquam ac eros dui."
   ]
  },
  {
   "cell_type": "markdown",
   "metadata": {},
   "source": [
    "[link to another section](#Section-2)"
   ]
  },
  {
   "cell_type": "code",
   "execution_count": null,
   "metadata": {},
   "outputs": [],
   "source": []
  }
 ],
 "metadata": {
  "kernelspec": {
   "display_name": "Python 3",
   "language": "python",
   "name": "python3"
  },
  "language_info": {
   "codemirror_mode": {
    "name": "ipython",
    "version": 3
   },
   "file_extension": ".py",
   "mimetype": "text/x-python",
   "name": "python",
   "nbconvert_exporter": "python",
   "pygments_lexer": "ipython3",
   "version": "3.5.4"
  }
 },
 "nbformat": 4,
 "nbformat_minor": 2
}
