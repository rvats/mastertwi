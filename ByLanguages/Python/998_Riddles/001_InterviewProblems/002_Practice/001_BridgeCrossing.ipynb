{
 "cells": [
  {
   "cell_type": "markdown",
   "metadata": {},
   "source": [
    "# Bridge Crossing"
   ]
  },
  {
   "cell_type": "markdown",
   "metadata": {},
   "source": [
    "## Problem Statement\n",
    "\n",
    "A group of four travelers comes to a bridge at night. The bridge can hold the weight of at most only two of the travelers at a time, and it can- not be crossed without using a flashlight. \n",
    "\n",
    "The travelers have one flashlight among them. Each traveler walks at a different speed: The first can cross the bridge in 1 minute, the second in 2 minutes, the third in 5 minutes, and the fourth takes 10 minutes to cross the bridge. If two travelers cross together, they walk at the speed of the slower traveler.\n",
    "\n",
    "What is the least amount of time in which all the travelers can cross from one side of the bridge to the other?\n",
    "\n"
   ]
  },
  {
   "cell_type": "code",
   "execution_count": 19,
   "metadata": {},
   "outputs": [],
   "source": [
    "#Solving the bridge taking in an array/list of times taken by the travelers to cross the bridge in sorted order\n",
    "def CrossBridge(list):\n",
    "    leastAmountOfTime=0\n",
    "    fastestTravellerTime = list[0]\n",
    "    print(\"Fastest Traveller at the index 0 Cross The Bridge in: \",fastestTravellerTime)\n",
    "    numberOfTravellers=len(list)\n",
    "    print(\"Total Number Of Travellers: \", numberOfTravellers)\n",
    "    for i in range(1,numberOfTravellers):\n",
    "        print(\"Index of Traveller in the list: \", i, \"Crosses The Bridge In \", list[i])\n",
    "        if(i==numberOfTravellers-1):\n",
    "            leastAmountOfTime=leastAmountOfTime+list[i]\n",
    "        else:\n",
    "            leastAmountOfTime=leastAmountOfTime+list[i]+fastestTravellerTime\n",
    "    return leastAmountOfTime"
   ]
  },
  {
   "cell_type": "code",
   "execution_count": 20,
   "metadata": {},
   "outputs": [
    {
     "name": "stdout",
     "output_type": "stream",
     "text": [
      "Fastest Traveller at the index 0 Cross The Bridge in:  1\n",
      "Total Number Of Travellers:  4\n",
      "Index of Traveller in the list:  1 Crosses The Bridge In  2\n",
      "Index of Traveller in the list:  2 Crosses The Bridge In  5\n",
      "Index of Traveller in the list:  3 Crosses The Bridge In  10\n",
      "19\n"
     ]
    }
   ],
   "source": [
    "print(CrossBridge([1,2,5,10]))"
   ]
  },
  {
   "cell_type": "code",
   "execution_count": null,
   "metadata": {},
   "outputs": [],
   "source": []
  }
 ],
 "metadata": {
  "kernelspec": {
   "display_name": "Python 3",
   "language": "python",
   "name": "python3"
  },
  "language_info": {
   "codemirror_mode": {
    "name": "ipython",
    "version": 3
   },
   "file_extension": ".py",
   "mimetype": "text/x-python",
   "name": "python",
   "nbconvert_exporter": "python",
   "pygments_lexer": "ipython3",
   "version": "3.7.6"
  }
 },
 "nbformat": 4,
 "nbformat_minor": 1
}
