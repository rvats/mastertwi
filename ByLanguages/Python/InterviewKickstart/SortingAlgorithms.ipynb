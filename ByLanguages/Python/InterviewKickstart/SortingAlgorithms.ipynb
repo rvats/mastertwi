{
 "cells": [
  {
   "cell_type": "code",
   "execution_count": null,
   "metadata": {},
   "outputs": [],
   "source": [
    "# Place the minim\n",
    "def SelectionSort(arr):\n",
    "    n = len(arr)\n",
    "    for i in range(n):\n",
    "        minimum = i        \n",
    "        for j in range(i + 1, n):\n",
    "            if arr[j] < arr[minimum]:\n",
    "                minimum = j\n",
    "        arr[minimum], arr[i] = arr[i], arr[minimum]\n",
    "            \n",
    "    return arr\n",
    "SelectionSort([7,6,5,4,3,2,1])"
   ]
  },
  {
   "cell_type": "code",
   "execution_count": null,
   "metadata": {},
   "outputs": [],
   "source": [
    "# Compare Adjacent Numbers\n",
    "def BubbleSort(arr): \n",
    "    n = len(arr)\n",
    "    for i in range(n-1): \n",
    "        for j in range(0, n-i-1): \n",
    "            if arr[j] > arr[j+1] : \n",
    "                arr[j], arr[j+1] = arr[j+1], arr[j] \n",
    "    return arr\n",
    "  \n",
    "# Driver code to test above \n",
    "arr = [64, 34, 25, 12, 22, 11, 90] \n",
    "BubbleSort(arr)"
   ]
  },
  {
   "cell_type": "code",
   "execution_count": null,
   "metadata": {},
   "outputs": [],
   "source": [
    "def InsertionSort(alist):\n",
    "   for i in range(1,len(alist)):\n",
    "       #element to be compared\n",
    "       current = alist[i]\n",
    "       #comparing the current element with the sorted portion and swapping\n",
    "       while i>0 and alist[i-1]>current:\n",
    "           alist[i] = alist[i-1]\n",
    "           i = i-1\n",
    "           alist[i] = current\n",
    "       #print(alist)\n",
    "   return alist\n",
    "print(InsertionSort([5,2,1,9,0,4,6]))"
   ]
  },
  {
   "cell_type": "code",
   "execution_count": null,
   "metadata": {},
   "outputs": [],
   "source": []
  }
 ],
 "metadata": {
  "kernelspec": {
   "display_name": "Python 3",
   "language": "python",
   "name": "python3"
  },
  "language_info": {
   "codemirror_mode": {
    "name": "ipython",
    "version": 3
   },
   "file_extension": ".py",
   "mimetype": "text/x-python",
   "name": "python",
   "nbconvert_exporter": "python",
   "pygments_lexer": "ipython3",
   "version": "3.7.6"
  }
 },
 "nbformat": 4,
 "nbformat_minor": 4
}
